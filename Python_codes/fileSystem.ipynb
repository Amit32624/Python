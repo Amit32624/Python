{
 "metadata": {
  "language_info": {
   "codemirror_mode": {
    "name": "ipython",
    "version": 3
   },
   "file_extension": ".py",
   "mimetype": "text/x-python",
   "name": "python",
   "nbconvert_exporter": "python",
   "pygments_lexer": "ipython3",
   "version": "3.8.5"
  },
  "orig_nbformat": 2,
  "kernelspec": {
   "name": "python3",
   "display_name": "Python 3.8.5 32-bit",
   "metadata": {
    "interpreter": {
     "hash": "9ed5a63813c20c122701686986e20331a15188aa11835131e7cb2ca658529cc8"
    }
   }
  }
 },
 "nbformat": 4,
 "nbformat_minor": 2,
 "cells": [
  {
   "cell_type": "code",
   "execution_count": null,
   "metadata": {},
   "outputs": [],
   "source": [
    "import os\n",
    "path = 'F://Python Learning//Python_learning//Day_3//Box.py'\n",
    "top = 'F://Python Learning//Python_learning'\n",
    "print(os.path.dirname(path))\n",
    "print(os.path.basename(path))\n",
    "print(os.path.splitext(path))\n",
    "print(os.path.exists(path))\n",
    "print(os.path.isfile(path))\n",
    "print(os.path.isdir(path))\n",
    "print(os.getcwd())\n",
    "# print(os.chdir(path))\n",
    "# print(os.listdir(path))\n",
    "# print(os.mkdir(path))\n",
    "print(os.walk(top))"
   ]
  },
  {
   "cell_type": "code",
   "execution_count": null,
   "metadata": {
    "tags": []
   },
   "outputs": [],
   "source": [
    "import os\n",
    "path = \"F://Python Learning//Python_learning\"\n",
    "for root,dirs,files in os.walk(path):\n",
    "    print(\"Visiting directory '%s' \" %root)"
   ]
  },
  {
   "cell_type": "code",
   "execution_count": 36,
   "metadata": {},
   "outputs": [
    {
     "output_type": "stream",
     "name": "stdout",
     "text": [
      "Number_files = 226\n"
     ]
    }
   ],
   "source": [
    "import os\n",
    "file_count = 0\n",
    "path = \"F://Python Learning//Python_learning\"\n",
    "for root,dirs,files in os.walk(path):\n",
    "    file_count += len(files)\n",
    "print(\"Number_files = %d\" %file_count)"
   ]
  }
 ]
}