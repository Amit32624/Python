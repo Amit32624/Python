{
 "metadata": {
  "language_info": {
   "codemirror_mode": {
    "name": "ipython",
    "version": 3
   },
   "file_extension": ".py",
   "mimetype": "text/x-python",
   "name": "python",
   "nbconvert_exporter": "python",
   "pygments_lexer": "ipython3",
   "version": "3.8.5"
  },
  "orig_nbformat": 2,
  "kernelspec": {
   "name": "python3",
   "display_name": "Python 3.8.5 32-bit",
   "metadata": {
    "interpreter": {
     "hash": "9ed5a63813c20c122701686986e20331a15188aa11835131e7cb2ca658529cc8"
    }
   }
  }
 },
 "nbformat": 4,
 "nbformat_minor": 2,
 "cells": [
  {
   "cell_type": "code",
   "execution_count": 8,
   "metadata": {},
   "outputs": [
    {
     "output_type": "stream",
     "name": "stdout",
     "text": [
      "25\n49\n"
     ]
    }
   ],
   "source": [
    "#Lambda is an anonymous function.\n",
    "#Parameters appear between lambda and colon\n",
    "y = (lambda x: x*x)\n",
    "print(y(5))\n",
    "# OR\n",
    "print((lambda x:x*x) (7))\n"
   ]
  },
  {
   "cell_type": "code",
   "execution_count": 13,
   "metadata": {},
   "outputs": [
    {
     "output_type": "stream",
     "name": "stdout",
     "text": [
      "sorted_;ist : [4, 5, 6, 7, 8, 8, 9, 9]\n(Reverse) sorted list : [9, 9, 8, 8, 7, 6, 5, 4]\n"
     ]
    }
   ],
   "source": [
    "# nums = [\"zero\", \"one\",\"two\",\"three\",\"four\",\"five\"]\n",
    "nums = [9,5,8,4,6,9,7,8]\n",
    "nums.sort()\n",
    "print(\"sorted_;ist :\",nums)\n",
    "\n",
    "nums.sort(reverse=True)\n",
    "print(\"(Reverse) sorted list :\", nums)"
   ]
  },
  {
   "cell_type": "code",
   "execution_count": 31,
   "metadata": {},
   "outputs": [
    {
     "output_type": "stream",
     "name": "stdout",
     "text": [
      "[('Alan', 'Murphy'), ('John', 'Kelly'), ('Tom', 'Burke'), ('Amit', 'Ambrekar')]\n[('Alan', 'Murphy'), ('John', 'Kelly'), ('Tom', 'Burke'), ('Amit', 'Ambrekar')]\nx ('John', 'Kelly')\nNames by last name:  [('Amit', 'Ambrekar'), ('Tom', 'Burke'), ('John', 'Kelly'), ('Alan', 'Murphy')]\n_____________________________\nNames by length:  [('Tom', 'Burke'), ('John', 'Kelly'), ('Alan', 'Murphy'), ('Amit', 'Ambrekar')]\n"
     ]
    }
   ],
   "source": [
    "names =[(\"Alan\",\"Murphy\"),(\"John\",\"Kelly\"),(\"Tom\",\"Burke\"),(\"Amit\",\"Ambrekar\")]\n",
    "# names =[5,8,9,2,6,3,4,7]\n",
    "print(names)\n",
    "names_by_last = names.copy()\n",
    "print(names_by_last)\n",
    "names_by_last.sort(key = lambda x:x[1])\n",
    "print(\"Names by last name: \",names_by_last)\n",
    "print(\"_____________________________\")\n",
    "\n",
    "names_by_length =names.copy()\n",
    "names_by_length.sort(key=lambda x:len(x[0] +x[1]))\n",
    "print(\"Names by length: \", names_by_length)"
   ]
  },
  {
   "cell_type": "code",
   "execution_count": 34,
   "metadata": {},
   "outputs": [
    {
     "output_type": "stream",
     "name": "stdout",
     "text": [
      "The CAT SAT on the MAT\nstr3 - The thing thing on the thing\n"
     ]
    }
   ],
   "source": [
    "import re\n",
    "str1 = \"The cat sat on the mat\"\n",
    "regexp = re.compile(r\"\\b[a-zA-z]a[a-z]*\\b\")\n",
    "\n",
    "str2 = regexp.sub(lambda x:x.group().upper(),str1)\n",
    "str3 = regexp.sub(\"thing\",str1)\n",
    "print(str2)\n",
    "print(\"str3 -\",str3)"
   ]
  }
 ]
}